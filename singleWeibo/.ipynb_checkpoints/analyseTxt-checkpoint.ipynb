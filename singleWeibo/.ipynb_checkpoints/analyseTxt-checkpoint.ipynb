{
 "cells": [
  {
   "cell_type": "code",
   "execution_count": 1,
   "metadata": {
    "jupyter": {
     "source_hidden": true
    }
   },
   "outputs": [],
   "source": [
    "import os\n",
    "import csv"
   ]
  },
  {
   "cell_type": "code",
   "execution_count": 53,
   "metadata": {},
   "outputs": [],
   "source": [
    "def addrPath(tweeter):\n",
    "    path=addrRoot+str(tweeter)+'/可视化分析结果/'\n",
    "    if os.path.exists(path) is False:\n",
    "         os.makedirs(path)\n",
    "    return path"
   ]
  },
  {
   "cell_type": "code",
   "execution_count": 54,
   "metadata": {},
   "outputs": [],
   "source": [
    "def addrFile(tweeter,suffix):\n",
    "    path=addrRoot+str(tweeter)+'/'\n",
    "    if os.path.exists(path) is False:\n",
    "         os.makedirs(path)\n",
    "    address=path+tweeter+suffix\n",
    "    return address  "
   ]
  },
  {
   "cell_type": "code",
   "execution_count": 55,
   "metadata": {
    "jupyter": {
     "source_hidden": true
    }
   },
   "outputs": [],
   "source": [
    "import random\n",
    "\n",
    "#for item in dataDict:\n",
    "    #print(dataDict.get(item)[-1-sort[-1]])\n",
    "    #print(item)\n",
    "def randomText(no):\n",
    "    \n",
    "        item=random.choice(list(dataDict))\n",
    "        return (item+':'+str(dataDict.get(item)[no]))\n",
    "\n",
    "def exactText(no,item):\n",
    "    text=(item+':'+str(dataDict.get(item)[no]))\n",
    "    print(text)\n",
    "    return text\n"
   ]
  },
  {
   "cell_type": "code",
   "execution_count": 56,
   "metadata": {},
   "outputs": [],
   "source": [
    "#文件保存地址，改为你存放csv文件的完整地址\n",
    "addrRoot='C:/Users/cascara/Desktop/seedcup/csv/blog/single/'\n",
    "\n",
    "#是否调试\n",
    "isDebug=False\n",
    "\n",
    "#100万+显示\n",
    "infinity=1000000"
   ]
  },
  {
   "cell_type": "code",
   "execution_count": 57,
   "metadata": {},
   "outputs": [
    {
     "name": "stdin",
     "output_type": "stream",
     "text": [
      "输入博主姓名： 武汉肺炎-搜狐新闻\n"
     ]
    }
   ],
   "source": [
    "tweeter=input('输入博主姓名：')#'陈赫'"
   ]
  },
  {
   "cell_type": "code",
   "execution_count": 58,
   "metadata": {},
   "outputs": [
    {
     "name": "stdout",
     "output_type": "stream",
     "text": [
      "C:/Users/cascara/Desktop/seedcup/csv/blog/single/武汉肺炎-搜狐新闻/武汉肺炎-搜狐新闻batch0.csv\n",
      "C:/Users/cascara/Desktop/seedcup/csv/blog/single/武汉肺炎-搜狐新闻/武汉肺炎-搜狐新闻batch1.csv\n",
      "C:/Users/cascara/Desktop/seedcup/csv/blog/single/武汉肺炎-搜狐新闻/武汉肺炎-搜狐新闻batch2.csv\n",
      "C:/Users/cascara/Desktop/seedcup/csv/blog/single/武汉肺炎-搜狐新闻/武汉肺炎-搜狐新闻batch3.csv\n",
      "不存在C:/Users/cascara/Desktop/seedcup/csv/blog/single/武汉肺炎-搜狐新闻/武汉肺炎-搜狐新闻batch3.csv\n"
     ]
    }
   ],
   "source": [
    "#开始\n",
    "startCollect=True\n",
    "\n",
    "\n",
    "batch=0\n",
    "dataDict={}\n",
    "Title=[]\n",
    "while(1):\n",
    "    titleEixst=True\n",
    "    address=addrFile(tweeter,'batch'+str(batch)+'.csv')    \n",
    "    print(address)\n",
    "    \n",
    "    if os.path.exists(address) is True:\n",
    "        fp = open(address,'r',newline='',encoding='utf-16')      \n",
    "        reader=csv.reader(fp)\n",
    "        for line in reader:\n",
    "            if titleEixst is True:\n",
    "                #将标题制成各个\n",
    "                if startCollect is True:\n",
    "                    for item in line:\n",
    "                        #print(item[-1])\n",
    "                        if isDebug is True:\n",
    "                            print(item)\n",
    "\n",
    "                            \n",
    "                        dataDict[item]=[]\n",
    "                    startCollect=False\n",
    "                Title=line    \n",
    "                if isDebug is True:\n",
    "                    print(line)\n",
    "                titleEixst=False\n",
    "            else:\n",
    "                for no in range(len(line)):               \n",
    "                    if(Title[no].find('count')>=0):\n",
    "                        if line[no].find('0万') > 0:\n",
    "                            dataDict.get(Title[no]).append(infinity)\n",
    "                        else:\n",
    "                            dataDict.get(Title[no]).append(eval(line[no]))\n",
    "                        \n",
    "                        #dataDict.get(Title[no]).append((line[no]))\n",
    "                        \n",
    "                    else:\n",
    "                        dataDict.get(Title[no]).append((line[no]))\n",
    "                    if isDebug is True:\n",
    "                        print(Title[no])\n",
    "                        print(line[no])               \n",
    "                \n",
    "    \n",
    "    else:\n",
    "        print('不存在'+address)\n",
    "        break\n",
    "    fp.close()\n",
    "    batch+=1\n",
    "#print(dataDict)"
   ]
  },
  {
   "cell_type": "code",
   "execution_count": 59,
   "metadata": {},
   "outputs": [
    {
     "name": "stdout",
     "output_type": "stream",
     "text": [
      "['转发created_at', '转发text', '转发reposts_count', '转发comments_count', '转发attitudes_count', '转发id', '转发screen_name', '转发description', '转发gender', '转发followers_count', '转发follow_count']\n"
     ]
    }
   ],
   "source": [
    "print(Title)"
   ]
  },
  {
   "cell_type": "markdown",
   "metadata": {},
   "source": [
    "### 读入数据"
   ]
  },
  {
   "cell_type": "code",
   "execution_count": 9,
   "metadata": {},
   "outputs": [],
   "source": [
    "originData={}\n",
    "retweetData={}\n",
    "\n",
    "labels=[0 for i in range(4)]\n",
    "cnLabels={}\n",
    "\n",
    "labels[1]='reposts_count'\n",
    "labels[2]='comments_count'\n",
    "labels[3]='attitudes_count'\n",
    "labels[0]='follow_count'\n",
    "\n",
    "cnLabels[labels[1]]='转发量'\n",
    "cnLabels[labels[2]]='评论量'\n",
    "cnLabels[labels[3]]='点赞量'\n",
    "cnLabels[labels[0]]='粉丝量'\n",
    "\n",
    "\n",
    "for i in range(4):\n",
    "    #print(choice+label)\n",
    "    try:\n",
    "        #originData[cnLabels[i]]=np.asarray(dataDict.get('原文'+labels[i])[::-1])\n",
    "        retweetData[labels[i]]=np.asarray(dataDict.get('转发'+labels[i])[::-1])\n",
    "    except:\n",
    "        pass\n",
    "    try:\n",
    "        originData[labels[i]]=np.asarray(dataDict.get('原文'+labels[i])[::-1])\n",
    "        #retweetData[cnLabels[i]]=np.asarray(dataDict.get('转发'+labels[i])[::-1])\n",
    "    except:\n",
    "        pass\n",
    "\n"
   ]
  },
  {
   "cell_type": "code",
   "execution_count": 23,
   "metadata": {},
   "outputs": [],
   "source": [
    "txt=''\n",
    "for text in  (dataDict['转发text']):\n",
    "    txt +=text\n"
   ]
  },
  {
   "cell_type": "code",
   "execution_count": 150,
   "metadata": {},
   "outputs": [],
   "source": [
    "import re\n",
    "#工具类，用来去除爬取的正文中一些不需要的链接、标签等\n",
    "class Tool:\n",
    "    deleteImg = re.compile('<img.*?>')\n",
    "    newLine =re.compile('<tr>|<div>|</tr>|</div>')\n",
    "    \n",
    "    deleteAite = re.compile('//.*?:')\n",
    "    \n",
    "    repostEN=re.compile('//<a.*?>@(.*?)</a>:')#英文字符冒号\n",
    "    repostCN=re.compile('//<a.*?>@(.*?)</a>：')#中文字符冒号\n",
    "    \n",
    "    \n",
    "    deleteAddr = re.compile('<a.*?>.*?</a>|<a href='+'\\'https:')\n",
    "    deleteTag = re.compile('<.*?>')\n",
    "    deleteWord = re.compile('回复@|回覆@|回覆|回复')\n",
    " \n",
    "    @classmethod\n",
    "    def findSource(cls,x):\n",
    "        sourceName=''\n",
    "        xEN=xCN=''\n",
    "        \n",
    "        xEN = re.findall(cls.repostEN,x)\n",
    "        xCN = re.findall(cls.repostCN,x)\n",
    "        \n",
    "        \n",
    "        #如果其中一者存在，另一者不存在，即返回该者\n",
    "        if(len(xCN)==0 and len(xEN)>0):\n",
    "            sourceName=xEN[0]\n",
    "            #print(xEN[0])\n",
    "        elif(len(xEN)==0 and len(xCN)>0):\n",
    "            sourceName=xCN[0]\n",
    "            #print(xCN[0]) \n",
    "        #若二者都存在，则返回第一位置字符串较小的\n",
    "        elif(len(xEN)>0 and len(xCN)>0):\n",
    "            #print(xCN[0])  if(len(xEN[0])>len(xCN[0])) else print(xEN[0])\n",
    "            sourceName=xCN[0]  if(len(xEN[0])>len(xCN[0])) else xEN[0]\n",
    "\n",
    "                \n",
    "        return sourceName\n",
    "        \n",
    "        \n",
    "        #\n",
    "        \n",
    "        #\n",
    "        \n",
    "        \n",
    "        #"
   ]
  },
  {
   "cell_type": "code",
   "execution_count": 285,
   "metadata": {},
   "outputs": [],
   "source": [
    "class Categories:\n",
    "    \n",
    "    def __init__(self):\n",
    "        self.compose={}\n",
    "        #pass\n",
    "    def add(self,name):\n",
    "        self.compose[name]={}\n",
    "        category=self.compose[name]\n",
    "        category['value']=0 #记录被转次数\n",
    "        category['target']={}\n",
    "        category['source']={}\n",
    "        #category['isS']=0\n",
    "    def nameExist(self,name):\n",
    "        if self.compose.get(name) is None:   \n",
    "            return False\n",
    "        else:\n",
    "            return True\n",
    "        \n",
    "    def addTarget(self,sourceName,targetName):\n",
    "        if self.nameExist(sourceName) is False:\n",
    "            self.add(sourceName)\n",
    "        if self.nameExist(targetName) is False:\n",
    "            self.add(targetName)\n",
    "        \n",
    "        ##防止循环调用        \n",
    "        if sourceName == targetName:\n",
    "            #print(sourceName)\n",
    "            return \n",
    "        if self.compose[targetName]['source'].get(sourceName) is not None:\n",
    "            #print(sourceName)\n",
    "            self.compose[targetName]['source'].pop(sourceName)\n",
    "            \n",
    "            \n",
    "        if self.compose[targetName]['source'].get(sourceName) is None:\n",
    "            self.compose[targetName]['source'][sourceName]=1\n",
    "        else:\n",
    "            self.compose[targetName]['source'][sourceName]+=1    \n",
    "            \n",
    "        \n",
    "        if self.compose[sourceName]['target'].get(sourceName) is None:\n",
    "            self.compose[sourceName]['target'][targetName]=1\n",
    "        else:\n",
    "            self.compose[sourceName]['target'][targetName]+=1\n",
    "        self.compose[sourceName]['value']+=1    \n",
    "            \n",
    "    def countAll(self,name):\n",
    "        '''count =0\n",
    "        if self.nameExist(name) is False:\n",
    "            self.add(name)            \n",
    "            count= 0\n",
    "        else:'''\n",
    "        \n",
    "        targets=self.compose[name]['target']\n",
    "        if targets == {}:\n",
    "            self.compose[name]['value']=0\n",
    "        else:\n",
    "            for targetName in targets:\n",
    "                if self.compose[targetName]['target']=={}:\n",
    "                    self.compose[targetName]['value']=0\n",
    "                    #self.compose[name]['value']+=1\n",
    "                else:\n",
    "                    self.countAll(targetName)\n",
    "                    self.compose[name]['value']+=self.compose[targetName]['value']\n",
    "                    \n",
    "            \n",
    "        "
   ]
  },
  {
   "cell_type": "code",
   "execution_count": 290,
   "metadata": {},
   "outputs": [],
   "source": [
    "choice='转发'#'原文'#\n",
    "categories=Categories()\n",
    "txt=''\n",
    "\n",
    "\n",
    "\n",
    "for name,text in  zip(dataDict[choice+'screen_name'],dataDict[choice+'text']):\n",
    "    \n",
    "    if categories.nameExist(name) is False:\n",
    "        categories.add(name)\n",
    "            \n",
    "            \n",
    "    sourceName=(Tool.findSource(text))\n",
    "    if sourceName is not '':    \n",
    "        categories.addTarget(sourceName,name)\n",
    "        \n",
    "    else:\n",
    "        categories.addTarget(tweeter,name)\n",
    "        \n",
    "categories.countAll(tweeter)#zwysgs')#处理所有，统计所有转发来源量        \n",
    "        \n",
    "            \n",
    "         "
   ]
  },
  {
   "cell_type": "code",
   "execution_count": 287,
   "metadata": {},
   "outputs": [],
   "source": []
  },
  {
   "cell_type": "code",
   "execution_count": 295,
   "metadata": {},
   "outputs": [
    {
     "name": "stdout",
     "output_type": "stream",
     "text": [
      "532\n"
     ]
    }
   ],
   "source": [
    "print(len(categories.compose))"
   ]
  },
  {
   "cell_type": "code",
   "execution_count": 293,
   "metadata": {},
   "outputs": [
    {
     "name": "stdout",
     "output_type": "stream",
     "text": [
      "武汉肺炎-搜狐新闻\n",
      "头卡门缝里zy\n",
      "克里斯边\n",
      "蓝__胖\n",
      "长亭风影\n",
      "落花欲倾城\n",
      "每一天都比昨天更接近五月天\n",
      "莞尔叻\n",
      "红将08\n",
      "fireflywinter\n",
      "新年会有offer吗\n",
      "軒love72089\n",
      "甜菜的理想\n",
      "阳山花非花\n",
      "北渔·\n",
      "与喵共屋Mayday\n",
      "zwysgs\n",
      "穷到送锦旗\n",
      "演员不加糖\n",
      "爽梁\n",
      "不谋私利的故事\n",
      "海阔天空1702\n",
      "法治观察在线\n",
      "正义坚定捍卫者\n",
      "房客336\n",
      "请叫我沈小二\n",
      "妈妈我想当盲流子\n",
      "宇字号汤包or汤圆\n",
      "甄馼\n",
      "SavePeople\n",
      "wxby七染\n",
      "Glasswood\n",
      "冷烛无烟11626\n",
      "后人类视觉\n",
      "Tiffanyd希熙\n",
      "南明张曼玉\n",
      "heyfanfanfan88\n",
      "san-山岚\n",
      "昭昭穿堂风\n",
      "乔木老师\n",
      "夕加\n",
      "沁秋liuyi\n",
      "幸福胖罗\n",
      "Siriusbluewhite\n",
      "青甘宁流浪客\n",
      "茁盈\n",
      "胖小咕的爹\n",
      "dhxihxhdiksb\n",
      "庞家民\n",
      "wsmzmfw\n",
      "独孤宇云zyh\n",
      "林小海Charles\n",
      "最不具代表性非典型性直男\n",
      "[{'name': '武汉肺炎-搜狐新闻'}, {'name': '头卡门缝里zy'}, {'name': '克里斯边'}, {'name': '蓝__胖'}, {'name': '长亭风影'}, {'name': '落花欲倾城'}, {'name': '每一天都比昨天更接近五月天'}, {'name': '莞尔叻'}, {'name': '红将08'}, {'name': 'fireflywinter'}, {'name': '新年会有offer吗'}, {'name': '軒love72089'}, {'name': '甜菜的理想'}, {'name': '阳山花非花'}, {'name': '北渔·'}, {'name': '与喵共屋Mayday'}, {'name': 'zwysgs'}, {'name': '穷到送锦旗'}, {'name': '演员不加糖'}, {'name': '爽梁'}, {'name': '不谋私利的故事'}, {'name': '海阔天空1702'}, {'name': '法治观察在线'}, {'name': '正义坚定捍卫者'}, {'name': '房客336'}, {'name': '请叫我沈小二'}, {'name': '妈妈我想当盲流子'}, {'name': '宇字号汤包or汤圆'}, {'name': '甄馼'}, {'name': 'SavePeople'}, {'name': 'wxby七染'}, {'name': 'Glasswood'}, {'name': '冷烛无烟11626'}, {'name': '后人类视觉'}, {'name': 'Tiffanyd希熙'}, {'name': '南明张曼玉'}, {'name': 'heyfanfanfan88'}, {'name': 'san-山岚'}, {'name': '昭昭穿堂风'}, {'name': '乔木老师'}, {'name': '夕加'}, {'name': '沁秋liuyi'}, {'name': '幸福胖罗'}, {'name': 'Siriusbluewhite'}, {'name': '青甘宁流浪客'}, {'name': '茁盈'}, {'name': '胖小咕的爹'}, {'name': 'dhxihxhdiksb'}, {'name': '庞家民'}, {'name': 'wsmzmfw'}, {'name': '独孤宇云zyh'}, {'name': '林小海Charles'}, {'name': '最不具代表性非典型性直男'}]\n"
     ]
    }
   ],
   "source": [
    "nodes=[]\n",
    "arcs=[]\n",
    "\n",
    "category=[]\n",
    "\n",
    "\n",
    "\n",
    "for i in  categories.compose:\n",
    "    \n",
    "    \n",
    "    \n",
    "    if categories.compose[i]['value'] > 0:\n",
    "        #add arcs\n",
    "        targets=categories.compose[i]['target']\n",
    "        if targets != {}:\n",
    "            for targetName in targets:\n",
    "                nodes.append({'target':i,''})\n",
    "        \n",
    "        \n",
    "        #归入category\n",
    "        category.append({'name':i})\n",
    "        \n",
    "        \n",
    "    #try:\n",
    "        #categories.compose[i]['target'][i] \n",
    "        \n",
    "        #print(i)\n",
    "        #print( categories.compose[i])\n",
    "    #except:\n",
    "        #pass\n",
    "print(arcs)\n",
    "print(category)"
   ]
  },
  {
   "cell_type": "code",
   "execution_count": 32,
   "metadata": {
    "jupyter": {
     "source_hidden": true
    }
   },
   "outputs": [
    {
     "name": "stdout",
     "output_type": "stream",
     "text": [
      "关于\n",
      "青年\n",
      "志愿者\n"
     ]
    },
    {
     "data": {
      "text/plain": [
       "<wordcloud.wordcloud.WordCloud at 0x20ef1840588>"
      ]
     },
     "execution_count": 32,
     "metadata": {},
     "output_type": "execute_result"
    }
   ],
   "source": [
    "import jieba\n",
    "import numpy as np\n",
    "import wordcloud\n",
    "from PIL import Image\n",
    "import os\n",
    "#fc = open(\"threekingdoms.txt\", \"r\", encoding='utf-8')\n",
    "#fc=fc.read()\n",
    "\n",
    "savePath=addrPath(tweeter)+'词云/'\n",
    "\n",
    "if os.path.exists(savePath) is False:\n",
    "    os.mkdir(savePath)\n",
    "\n",
    "\n",
    "fc=txt\n",
    "ct=0\n",
    "words=jieba.lcut(fc)\n",
    "for word in words:\n",
    "    ct+=1\n",
    "    print(word)\n",
    "    if ct==3:\n",
    "        break\n",
    "\n",
    "article=' '.join(words)\n",
    "\n",
    "\n",
    "mask = np.array(Image.open(\"huakegatemask.jpg\"))\n",
    "#wc = WordCloud(color_func=random_color, mask=mask, font_path='Hiragino.ttf', mode='RGBA', background_color=None).generate(text)\n",
    "\n",
    "c = wordcloud.WordCloud( \\\n",
    "       mask=mask,\n",
    "    width = 1000, height = 700,\\\n",
    "    background_color = \"white\",\n",
    "    font_path = \"msyh.ttc\"    \n",
    "    )\n",
    "#c=wordcloud.WordCloud(font_path = \"msyh.ttc\" )\n",
    "c.generate(article)\n",
    "#print(c)\n",
    "c.to_file(savePath+choice+'词云图.png')\n"
   ]
  },
  {
   "cell_type": "code",
   "execution_count": 63,
   "metadata": {},
   "outputs": [],
   "source": [
    "a,b,c=[1,3,4]"
   ]
  },
  {
   "cell_type": "code",
   "execution_count": 192,
   "metadata": {},
   "outputs": [
    {
     "name": "stdout",
     "output_type": "stream",
     "text": [
      "basket\n"
     ]
    }
   ],
   "source": [
    "class Bike:\n",
    "    compose=[]\n",
    "    def __init__(self):\n",
    "        self.other='basket'\n",
    "    def use (self,time):\n",
    "        print('you ride {}m'.format(time*100))\n",
    "my_bike=Bike()\n",
    "print(my_bike.other)"
   ]
  },
  {
   "cell_type": "code",
   "execution_count": 254,
   "metadata": {},
   "outputs": [
    {
     "name": "stdout",
     "output_type": "stream",
     "text": [
      "3\n",
      "{}\n",
      "{}\n"
     ]
    }
   ],
   "source": [
    "b={'a':3}\n",
    "if b.get('a') is not None:\n",
    "    print(b.get('a'))\n",
    "    b.pop('a')\n",
    "print(b)\n",
    "b.get('a')\n",
    "print(b)"
   ]
  },
  {
   "cell_type": "code",
   "execution_count": 246,
   "metadata": {},
   "outputs": [
    {
     "name": "stdout",
     "output_type": "stream",
     "text": [
      "Help on class dict in module builtins:\n",
      "\n",
      "class dict(object)\n",
      " |  dict() -> new empty dictionary\n",
      " |  dict(mapping) -> new dictionary initialized from a mapping object's\n",
      " |      (key, value) pairs\n",
      " |  dict(iterable) -> new dictionary initialized as if via:\n",
      " |      d = {}\n",
      " |      for k, v in iterable:\n",
      " |          d[k] = v\n",
      " |  dict(**kwargs) -> new dictionary initialized with the name=value pairs\n",
      " |      in the keyword argument list.  For example:  dict(one=1, two=2)\n",
      " |  \n",
      " |  Methods defined here:\n",
      " |  \n",
      " |  __contains__(self, key, /)\n",
      " |      True if the dictionary has the specified key, else False.\n",
      " |  \n",
      " |  __delitem__(self, key, /)\n",
      " |      Delete self[key].\n",
      " |  \n",
      " |  __eq__(self, value, /)\n",
      " |      Return self==value.\n",
      " |  \n",
      " |  __ge__(self, value, /)\n",
      " |      Return self>=value.\n",
      " |  \n",
      " |  __getattribute__(self, name, /)\n",
      " |      Return getattr(self, name).\n",
      " |  \n",
      " |  __getitem__(...)\n",
      " |      x.__getitem__(y) <==> x[y]\n",
      " |  \n",
      " |  __gt__(self, value, /)\n",
      " |      Return self>value.\n",
      " |  \n",
      " |  __init__(self, /, *args, **kwargs)\n",
      " |      Initialize self.  See help(type(self)) for accurate signature.\n",
      " |  \n",
      " |  __iter__(self, /)\n",
      " |      Implement iter(self).\n",
      " |  \n",
      " |  __le__(self, value, /)\n",
      " |      Return self<=value.\n",
      " |  \n",
      " |  __len__(self, /)\n",
      " |      Return len(self).\n",
      " |  \n",
      " |  __lt__(self, value, /)\n",
      " |      Return self<value.\n",
      " |  \n",
      " |  __ne__(self, value, /)\n",
      " |      Return self!=value.\n",
      " |  \n",
      " |  __repr__(self, /)\n",
      " |      Return repr(self).\n",
      " |  \n",
      " |  __setitem__(self, key, value, /)\n",
      " |      Set self[key] to value.\n",
      " |  \n",
      " |  __sizeof__(...)\n",
      " |      D.__sizeof__() -> size of D in memory, in bytes\n",
      " |  \n",
      " |  clear(...)\n",
      " |      D.clear() -> None.  Remove all items from D.\n",
      " |  \n",
      " |  copy(...)\n",
      " |      D.copy() -> a shallow copy of D\n",
      " |  \n",
      " |  get(self, key, default=None, /)\n",
      " |      Return the value for key if key is in the dictionary, else default.\n",
      " |  \n",
      " |  items(...)\n",
      " |      D.items() -> a set-like object providing a view on D's items\n",
      " |  \n",
      " |  keys(...)\n",
      " |      D.keys() -> a set-like object providing a view on D's keys\n",
      " |  \n",
      " |  pop(...)\n",
      " |      D.pop(k[,d]) -> v, remove specified key and return the corresponding value.\n",
      " |      If key is not found, d is returned if given, otherwise KeyError is raised\n",
      " |  \n",
      " |  popitem(...)\n",
      " |      D.popitem() -> (k, v), remove and return some (key, value) pair as a\n",
      " |      2-tuple; but raise KeyError if D is empty.\n",
      " |  \n",
      " |  setdefault(self, key, default=None, /)\n",
      " |      Insert key with a value of default if key is not in the dictionary.\n",
      " |      \n",
      " |      Return the value for key if key is in the dictionary, else default.\n",
      " |  \n",
      " |  update(...)\n",
      " |      D.update([E, ]**F) -> None.  Update D from dict/iterable E and F.\n",
      " |      If E is present and has a .keys() method, then does:  for k in E: D[k] = E[k]\n",
      " |      If E is present and lacks a .keys() method, then does:  for k, v in E: D[k] = v\n",
      " |      In either case, this is followed by: for k in F:  D[k] = F[k]\n",
      " |  \n",
      " |  values(...)\n",
      " |      D.values() -> an object providing a view on D's values\n",
      " |  \n",
      " |  ----------------------------------------------------------------------\n",
      " |  Class methods defined here:\n",
      " |  \n",
      " |  fromkeys(iterable, value=None, /) from builtins.type\n",
      " |      Create a new dictionary with keys from iterable and values set to value.\n",
      " |  \n",
      " |  ----------------------------------------------------------------------\n",
      " |  Static methods defined here:\n",
      " |  \n",
      " |  __new__(*args, **kwargs) from builtins.type\n",
      " |      Create and return a new object.  See help(type) for accurate signature.\n",
      " |  \n",
      " |  ----------------------------------------------------------------------\n",
      " |  Data and other attributes defined here:\n",
      " |  \n",
      " |  __hash__ = None\n",
      "\n"
     ]
    }
   ],
   "source": [
    "help(dict)"
   ]
  },
  {
   "cell_type": "code",
   "execution_count": 52,
   "metadata": {},
   "outputs": [],
   "source": [
    "import json\n",
    "\n",
    "\n",
    "\n",
    "filename='C:/Users/cascara/pyecharts/example/fixtures/weibo.json'#addrFile(tweeter,'names.json')\n",
    "testFile='C:/Users/cascara/pyecharts/example/fixtures/test.json'\n",
    "    \n"
   ]
  },
  {
   "cell_type": "code",
   "execution_count": 51,
   "metadata": {},
   "outputs": [
    {
     "name": "stdout",
     "output_type": "stream",
     "text": [
      "{'name': '', 'symbolSize': 5, 'draggable': 'False', 'value': 1, 'category': '', 'label': {'normal': {'show': 'True'}}}\n"
     ]
    }
   ],
   "source": [
    "\n",
    "with open(filename,encoding='utf-8') as file_obj:\n",
    "    names = json.load(file_obj)\n",
    "a,b,c,d,e,f=names   \n",
    "print(a[0])"
   ]
  },
  {
   "cell_type": "code",
   "execution_count": 40,
   "metadata": {},
   "outputs": [],
   "source": [
    "file_obj.close()"
   ]
  },
  {
   "cell_type": "code",
   "execution_count": 66,
   "metadata": {},
   "outputs": [],
   "source": [
    "names = ['joker','joe','nacy','timi']\n",
    "nodes=[]\n",
    "arcs=[]\n",
    "catagories=[]\n",
    "text=''\n",
    "uid=''\n",
    "name=''\n",
    "\n",
    "\n",
    "with open(testFile,'w') as file_obj:\n",
    "    json.dump(names,file_obj)"
   ]
  },
  {
   "cell_type": "code",
   "execution_count": 69,
   "metadata": {},
   "outputs": [],
   "source": [
    "m=nodes,arcs,text"
   ]
  },
  {
   "cell_type": "code",
   "execution_count": 70,
   "metadata": {},
   "outputs": [
    {
     "name": "stdout",
     "output_type": "stream",
     "text": [
      "([], [], '')\n"
     ]
    }
   ],
   "source": [
    "print(m)"
   ]
  },
  {
   "cell_type": "raw",
   "metadata": {},
   "source": [
    "node\n",
    "\n",
    "{\n",
    "            \"name\": \"Camel3942\",\n",
    "            \"symbolSize\": 5,\n",
    "            \"draggable\": \"False\",\n",
    "            \"value\": 1,\n",
    "            \"category\": \"Camel3942\",\n",
    "            \"label\": {\n",
    "                \"normal\": {\n",
    "                    \"show\": \"True\"\n",
    "                }\n",
    "            }\n",
    "        },"
   ]
  }
 ],
 "metadata": {
  "kernelspec": {
   "display_name": "Python 3",
   "language": "python",
   "name": "python3"
  },
  "language_info": {
   "codemirror_mode": {
    "name": "ipython",
    "version": 3
   },
   "file_extension": ".py",
   "mimetype": "text/x-python",
   "name": "python",
   "nbconvert_exporter": "python",
   "pygments_lexer": "ipython3",
   "version": "3.7.4"
  }
 },
 "nbformat": 4,
 "nbformat_minor": 4
}
